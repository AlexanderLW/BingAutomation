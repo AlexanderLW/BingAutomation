{
 "cells": [
  {
   "cell_type": "code",
   "execution_count": 1,
   "metadata": {},
   "outputs": [],
   "source": [
    "import getpass\n",
    "import BingUtil\n",
    "from selenium import webdriver"
   ]
  },
  {
   "cell_type": "code",
   "execution_count": 2,
   "metadata": {},
   "outputs": [],
   "source": [
    "# Access the chrome webdriver and open the browser to the microsoft login page\n",
    "# Note: Chrome instance does know it is being automated\n",
    "driver = webdriver.Chrome()\n",
    "driver.get(\"https://login.live.com/login.srf\")"
   ]
  },
  {
   "cell_type": "code",
   "execution_count": 3,
   "metadata": {},
   "outputs": [
    {
     "name": "stdout",
     "output_type": "stream",
     "text": [
      "Enter microsoft email: alexander.lennon.williams@gmail.com\n"
     ]
    }
   ],
   "source": [
    "email = input(\"Enter microsoft email: \")"
   ]
  },
  {
   "cell_type": "code",
   "execution_count": 4,
   "metadata": {},
   "outputs": [
    {
     "name": "stdout",
     "output_type": "stream",
     "text": [
      "Enter password: ········\n"
     ]
    }
   ],
   "source": [
    "password = getpass.getpass(\"Enter password: \")"
   ]
  },
  {
   "cell_type": "code",
   "execution_count": 5,
   "metadata": {},
   "outputs": [],
   "source": [
    "# Part One: Sign In\n",
    "BingUtil.rewardsSignIn(driver, email, password)"
   ]
  },
  {
   "cell_type": "code",
   "execution_count": 6,
   "metadata": {},
   "outputs": [],
   "source": [
    "# Part Two: Search Rewards\n",
    "driver.get(\"https://bing.com\")\n",
    "\n",
    "# get items by class (list of items)\n",
    "# for item in list\n",
    "    # click link\n",
    "    # determine size of input on search box \n",
    "    # for i in range(size of input character)\n",
    "        # check if rewards are still increasing\n",
    "            # backspace a character from input\n",
    "            # press enter\n",
    "        # else \n",
    "            # break\n",
    "            # break for item = true \n",
    "    # break for items\n",
    "    \n",
    "# Switch to mobile, perform same operations"
   ]
  },
  {
   "cell_type": "code",
   "execution_count": 11,
   "metadata": {},
   "outputs": [],
   "source": [
    "# Part Three: Daily Rewards\n",
    "# Open the actual bing rewards page\n",
    "driver.get(\"https://account.microsoft.com/rewards/\")"
   ]
  },
  {
   "cell_type": "code",
   "execution_count": 12,
   "metadata": {},
   "outputs": [],
   "source": [
    "driver.quit()"
   ]
  },
  {
   "cell_type": "code",
   "execution_count": null,
   "metadata": {},
   "outputs": [],
   "source": [
    "# Apparently mobile browsing\n",
    "# driver = webdriver.Remote(browser_name=\"android\", command_executor='http://127.0.0.1:8080/hub')"
   ]
  }
 ],
 "metadata": {
  "kernelspec": {
   "display_name": "Python 3",
   "language": "python",
   "name": "python3"
  },
  "language_info": {
   "codemirror_mode": {
    "name": "ipython",
    "version": 3
   },
   "file_extension": ".py",
   "mimetype": "text/x-python",
   "name": "python",
   "nbconvert_exporter": "python",
   "pygments_lexer": "ipython3",
   "version": "3.6.5"
  }
 },
 "nbformat": 4,
 "nbformat_minor": 2
}
